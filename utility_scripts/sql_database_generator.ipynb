{
 "cells": [
  {
   "cell_type": "code",
   "execution_count": 1,
   "metadata": {
    "ExecuteTime": {
     "end_time": "2023-07-06T00:01:53.506031130Z",
     "start_time": "2023-07-06T00:01:53.502747877Z"
    },
    "collapsed": true
   },
   "outputs": [],
   "source": [
    "import matplotlib.pyplot as plt\n",
    "import numpy as np\n",
    "import pandas as pd\n",
    "# from ENDF6 import *\n",
    "import sqlite3"
   ]
  },
  {
   "cell_type": "code",
   "execution_count": 2,
   "metadata": {
    "ExecuteTime": {
     "end_time": "2023-07-06T00:01:53.950847465Z",
     "start_time": "2023-07-06T00:01:53.946479724Z"
    },
    "collapsed": false
   },
   "outputs": [
    {
     "name": "stdout",
     "output_type": "stream",
     "text": [
      "/home/john/Documents/MCXrayTransport/data\n"
     ]
    }
   ],
   "source": [
    "# change cwd to the directory of the script\n",
    "import os\n",
    "abspath = \"/home/john/Documents/MCXrayTransport/data/sql_database_generator.ipynb\"\n",
    "dname = os.path.dirname(abspath)\n",
    "os.chdir(dname)\n",
    "print(os.getcwd())\n"
   ]
  },
  {
   "cell_type": "code",
   "execution_count": 4,
   "metadata": {
    "ExecuteTime": {
     "end_time": "2023-07-07T01:26:17.724073414Z",
     "start_time": "2023-07-07T01:26:17.479316706Z"
    },
    "collapsed": false
   },
   "outputs": [
    {
     "ename": "ModuleNotFoundError",
     "evalue": "No module named 'pint'",
     "output_type": "error",
     "traceback": [
      "\u001b[0;31m---------------------------------------------------------------------------\u001b[0m",
      "\u001b[0;31mModuleNotFoundError\u001b[0m                       Traceback (most recent call last)",
      "Cell \u001b[0;32mIn[4], line 1\u001b[0m\n\u001b[0;32m----> 1\u001b[0m \u001b[39mimport\u001b[39;00m \u001b[39mpint\u001b[39;00m\n",
      "\u001b[0;31mModuleNotFoundError\u001b[0m: No module named 'pint'"
     ]
    }
   ],
   "source": [
    "import pint"
   ]
  },
  {
   "cell_type": "code",
   "execution_count": 3,
   "metadata": {
    "ExecuteTime": {
     "end_time": "2023-07-07T01:26:17.958975476Z",
     "start_time": "2023-07-07T01:26:17.859854001Z"
    },
    "collapsed": false
   },
   "outputs": [],
   "source": [
    "u = pint.UnitRegistry()"
   ]
  },
  {
   "cell_type": "code",
   "execution_count": 4,
   "metadata": {
    "ExecuteTime": {
     "end_time": "2023-07-07T01:26:18.206893501Z",
     "start_time": "2023-07-07T01:26:18.200364564Z"
    },
    "collapsed": false
   },
   "outputs": [],
   "source": [
    "p = 1 * u.m_e * u.c"
   ]
  },
  {
   "cell_type": "code",
   "execution_count": 5,
   "metadata": {
    "ExecuteTime": {
     "end_time": "2023-07-07T01:26:19.040296240Z",
     "start_time": "2023-07-07T01:26:19.036287723Z"
    },
    "collapsed": false
   },
   "outputs": [
    {
     "name": "stdout",
     "output_type": "stream",
     "text": [
      "41.20157176762781 / angstrom\n"
     ]
    }
   ],
   "source": [
    "print((p / (4.137e-15 * u.eV * u.s)).to(1/u.angstrom))\n"
   ]
  },
  {
   "cell_type": "code",
   "execution_count": 13,
   "metadata": {
    "ExecuteTime": {
     "end_time": "2023-07-07T01:16:35.355246929Z",
     "start_time": "2023-07-07T01:16:35.284409813Z"
    },
    "collapsed": false
   },
   "outputs": [],
   "source": [
    "# convert momentum in terms of eV * c to 1/angstrom without using pint\n",
    "def p_"
   ]
  },
  {
   "cell_type": "code",
   "execution_count": 16,
   "metadata": {
    "ExecuteTime": {
     "end_time": "2023-07-07T01:17:03.741489156Z",
     "start_time": "2023-07-07T01:17:03.738564941Z"
    },
    "collapsed": false
   },
   "outputs": [
    {
     "data": {
      "text/plain": [
       "0.11825883263395061"
      ]
     },
     "execution_count": 16,
     "metadata": {},
     "output_type": "execute_result"
    }
   ],
   "source": [
    "p_to_1_over_angstrom(2.5 /0.511e6)"
   ]
  },
  {
   "cell_type": "markdown",
   "metadata": {
    "collapsed": false
   },
   "source": [
    "# Graphs of each table for Hydrogen in order to ensure that data is read correctly"
   ]
  },
  {
   "cell_type": "code",
   "execution_count": 12,
   "metadata": {
    "ExecuteTime": {
     "end_time": "2023-07-06T00:01:55.545703536Z",
     "start_time": "2023-07-06T00:01:55.536931044Z"
    },
    "collapsed": false
   },
   "outputs": [],
   "source": [
    "data_dict = {\"total cross sections\": (23, 501), \"coherent scattering cross sections\": (23, 502), \"incoherent scattering cross sections\": (23, 504), \"pair production cross sections, electron field\": (23, 515), \"pair production cross sections, total\": (23, 516), \"pair production cross sections, nuclear field\": (23, 517), \"total photoionization cross sections\": (23, 522), \"coherent scattering form factors\": (27, 502), \"incoherent scattering functions\": (27, 504), \"imaginary anomalous scattering factor\": (27, 505),\n",
    "             \"real anomalous scattering factor\": (27, 506)}"
   ]
  },
  {
   "cell_type": "code",
   "execution_count": 13,
   "metadata": {
    "ExecuteTime": {
     "end_time": "2023-07-06T00:01:57.148823120Z",
     "start_time": "2023-07-06T00:01:57.146396338Z"
    },
    "collapsed": false
   },
   "outputs": [],
   "source": [
    "def plot_data(atomic_number, data_type, xscale = \"log\", yscale = \"log\", xlim = None, ylim = None):\n",
    "    data = data_dict[data_type]\n",
    "    f = open(f\"data_sources/EPDL/{atomic_number:03d}.txt\")\n",
    "    lines = f.readlines()\n",
    "    sec = find_section(lines, data[0], data[1])\n",
    "    x, y = read_table(sec)\n",
    "    plt.plot(x, y, label = data_type)\n",
    "    if xlim is not None:\n",
    "        plt.xlim(xlim[0], xlim[1])\n",
    "    if ylim is not None:\n",
    "        plt.ylim(ylim[0], ylim[1])\n",
    "    plt.xscale(xscale)\n",
    "    plt.yscale(yscale)\n"
   ]
  },
  {
   "cell_type": "code",
   "execution_count": 14,
   "metadata": {
    "ExecuteTime": {
     "end_time": "2023-07-06T00:01:59.596157926Z",
     "start_time": "2023-07-06T00:01:59.228465309Z"
    },
    "collapsed": false
   },
   "outputs": [
    {
     "data": {
      "text/plain": [
       "<matplotlib.legend.Legend at 0x7f9bc442a2f0>"
      ]
     },
     "execution_count": 14,
     "metadata": {},
     "output_type": "execute_result"
    },
    {
     "data": {
      "image/png": "[encoded data removed]",
      "text/plain": [
       "<Figure size 432x288 with 1 Axes>"
      ]
     },
     "metadata": {
      "needs_background": "light"
     },
     "output_type": "display_data"
    }
   ],
   "source": [
    "plot_data(13, \"pair production cross sections, electron field\")\n",
    "plot_data(13, \"pair production cross sections, nuclear field\")\n",
    "plot_data(13, \"coherent scattering cross sections\")\n",
    "plot_data(13, \"incoherent scattering cross sections\")\n",
    "plot_data(13, \"total photoionization cross sections\")\n",
    "plt.legend()"
   ]
  },
  {
   "cell_type": "code",
   "execution_count": 3,
   "metadata": {
    "ExecuteTime": {
     "end_time": "2023-07-06T00:02:45.419949256Z",
     "start_time": "2023-07-06T00:02:45.337186633Z"
    },
    "collapsed": false
   },
   "outputs": [],
   "source": [
    "from sqlalchemy import create_engine"
   ]
  },
  {
   "cell_type": "code",
   "execution_count": 4,
   "metadata": {
    "ExecuteTime": {
     "end_time": "2023-07-06T00:02:47.350571922Z",
     "start_time": "2023-07-06T00:02:47.341353360Z"
    },
    "collapsed": false
   },
   "outputs": [],
   "source": [
    "ID = np.arange(1, 101)\n",
    "Symbol = np.array([\"H\", \"He\", \"Li\", \"Be\", \"B\", \"C\", \"N\", \"O\", \"F\", \"Ne\", \"Na\",\n",
    "                   \"Mg\", \"Al\", \"Si\", \"P\", \"S\", \"Cl\", \"Ar\", \"K\", \"Ca\", \"Sc\", \"Ti\",\n",
    "                   \"V\", \"Cr\", \"Mn\", \"Fe\", \"Co\", \"Ni\", \"Cu\", \"Zn\", \"Ga\", \"Ge\",\n",
    "                   \"As\", \"Se\", \"Br\", \"Kr\", \"Rb\", \"Sr\", \"Y\", \"Zr\", \"Nb\", \"Mo\",\n",
    "                   \"Tc\", \"Ru\", \"Rh\", \"Pd\", \"Ag\", \"Cd\", \"In\", \"Sn\", \"Sb\", \"Te\",\n",
    "                   \"I\", \"Xe\", \"Cs\", \"Ba\", \"La\", \"Ce\", \"Pr\", \"Nd\", \"Pm\", \"Sm\",\n",
    "                   \"Eu\", \"Gd\", \"Tb\", \"Dy\", \"Ho\", \"Er\", \"Tm\", \"Yb\", \"Lu\", \"Hf\",\n",
    "                   \"Ta\", \"W\", \"Re\", \"Os\", \"Ir\", \"Pt\", \"Au\", \"Hg\", \"Tl\", \"Pb\",\n",
    "                   \"Bi\", \"Po\", \"At\", \"Rn\", \"Fr\", \"Ra\", \"Ac\", \"Th\", \"Pa\", \"U\",\n",
    "                   \"Np\", \"Pu\", \"Am\", \"Cm\", \"Bk\", \"Cf\", \"Es\", \"Fm\"])\n",
    "AtomicNumber = np.arange(1, 101)\n"
   ]
  },
  {
   "cell_type": "code",
   "execution_count": 5,
   "metadata": {
    "ExecuteTime": {
     "end_time": "2023-07-06T00:02:50.640766800Z",
     "start_time": "2023-07-06T00:02:50.554814512Z"
    },
    "collapsed": false
   },
   "outputs": [],
   "source": [
    "import periodictable as pt\n",
    "import mendeleev as md"
   ]
  },
  {
   "cell_type": "code",
   "execution_count": 15,
   "metadata": {},
   "outputs": [
    {
     "data": {
      "text/plain": [
       "244"
      ]
     },
     "execution_count": 15,
     "metadata": {},
     "output_type": "execute_result"
    }
   ],
   "source": [
    "# get all elements from mendeleev\n",
    "el = md.element(101)\n",
    "el.mass_number"
   ]
  },
  {
   "cell_type": "code",
   "execution_count": 17,
   "metadata": {
    "ExecuteTime": {
     "end_time": "2023-07-06T00:02:54.559296331Z",
     "start_time": "2023-07-06T00:02:54.541946145Z"
    },
    "collapsed": false
   },
   "outputs": [],
   "source": [
    "Mass = np.array([pt.elements[i].mass for i in range(1, 101)]) # g\n",
    "Density = np.array([pt.elements[i].density for i in range(1, 101)]) # g/cm^3\n",
    "NumberDensity = np.array([pt.elements[i].number_density for i in range(1, 101)]) # atoms/cm^3\n",
    "MassNumber = np.array([md.element(i).mass_number for i in range(1, 101)]) # number of nucleons"
   ]
  },
  {
   "cell_type": "code",
   "execution_count": 19,
   "metadata": {},
   "outputs": [
    {
     "data": {
      "text/plain": [
       "100"
      ]
     },
     "execution_count": 19,
     "metadata": {},
     "output_type": "execute_result"
    }
   ],
   "source": []
  },
  {
   "cell_type": "code",
   "execution_count": 18,
   "metadata": {
    "ExecuteTime": {
     "end_time": "2023-07-06T00:02:56.506328231Z",
     "start_time": "2023-07-06T00:02:56.493830567Z"
    },
    "collapsed": false
   },
   "outputs": [],
   "source": [
    "elements_df = pd.DataFrame({\"ID\": ID, \"Symbol\": Symbol, \"AtomicNumber\": AtomicNumber, \"Mass\": Mass, \"Density\": Density, \"NumberDensity\": NumberDensity,\n",
    "                            \"MassNumber\": MassNumber})"
   ]
  },
  {
   "cell_type": "code",
   "execution_count": 19,
   "metadata": {
    "ExecuteTime": {
     "end_time": "2023-07-06T00:03:10.997067555Z",
     "start_time": "2023-07-06T00:03:10.923598793Z"
    },
    "collapsed": false
   },
   "outputs": [],
   "source": [
    "engine = create_engine(\"sqlite:///data_sources/EPDL/EPDL.db\", echo = False)"
   ]
  },
  {
   "cell_type": "code",
   "execution_count": 20,
   "metadata": {
    "ExecuteTime": {
     "end_time": "2023-07-06T00:03:17.885715879Z",
     "start_time": "2023-07-06T00:03:17.813329815Z"
    },
    "collapsed": false
   },
   "outputs": [
    {
     "data": {
      "text/plain": [
       "100"
      ]
     },
     "execution_count": 20,
     "metadata": {},
     "output_type": "execute_result"
    }
   ],
   "source": [
    "elements_df.to_sql(\"Elements\", con = engine, if_exists = \"replace\", index = False)"
   ]
  },
  {
   "cell_type": "code",
   "execution_count": null,
   "metadata": {
    "collapsed": false
   },
   "outputs": [],
   "source": [
    "def repeat_or_explode(val):\n",
    "    if isinstance(val, list):\n",
    "        return len(val)\n",
    "    else:\n",
    "        return 1\n",
    "\n",
    "def add_sql_table(table_name, data_type, y_name):\n",
    "    tot = 0\n",
    "    data = data_dict[data_type]\n",
    "    df_list = []  # Create an empty list to store DataFrames\n",
    "    for Z in AtomicNumber:\n",
    "        with open(f\"data_sources/EPDL/{Z:03d}.txt\") as f:\n",
    "            lines = f.readlines()\n",
    "            sec = find_section(lines, data[0], data[1])\n",
    "            x, y = read_table(sec)\n",
    "            tot += len(x)\n",
    "            df = pd.DataFrame({\"ElementID\": Z, \"Energy\": x, y_name: y})\n",
    "            df = df.apply(lambda x: x.explode() if x.name in ['Energy', y_name] else x.repeat(df['Energy'].apply(repeat_or_explode)))\n",
    "            df_list.append(df)  # Append the DataFrame to the list\n",
    "\n",
    "    # Concatenate all the DataFrames in the list into one DataFrame\n",
    "    final_df = pd.concat(df_list, ignore_index=True)\n",
    "\n",
    "    # Write the final DataFrame to the SQL table\n",
    "    final_df.to_sql(table_name, con = engine, if_exists = \"replace\", index = True)\n",
    "    print(f\"Added {tot} rows to {table_name} table\")"
   ]
  },
  {
   "cell_type": "code",
   "execution_count": null,
   "metadata": {
    "collapsed": false
   },
   "outputs": [],
   "source": [
    "add_sql_table(\"TotalCrossSections\", \"total cross sections\", \"CrossSection\")"
   ]
  },
  {
   "cell_type": "code",
   "execution_count": null,
   "metadata": {
    "collapsed": false
   },
   "outputs": [],
   "source": [
    "add_sql_table(\"CoherentScatteringCrossSections\", \"coherent scattering cross sections\", \"CrossSection\")"
   ]
  },
  {
   "cell_type": "code",
   "execution_count": null,
   "metadata": {
    "collapsed": false
   },
   "outputs": [],
   "source": [
    "add_sql_table(\"IncoherentScatteringCrossSections\", \"incoherent scattering cross sections\", \"CrossSection\")"
   ]
  },
  {
   "cell_type": "code",
   "execution_count": null,
   "metadata": {
    "collapsed": false
   },
   "outputs": [],
   "source": [
    "add_sql_table(\"PairProductionCrossSectionsElectronField\", \"pair production cross sections, electron field\", \"CrossSection\")"
   ]
  },
  {
   "cell_type": "code",
   "execution_count": null,
   "metadata": {
    "collapsed": false
   },
   "outputs": [],
   "source": [
    "add_sql_table(\"PairProductionCrossSectionsNuclearField\", \"pair production cross sections, nuclear field\", \"CrossSection\")"
   ]
  },
  {
   "cell_type": "code",
   "execution_count": null,
   "metadata": {
    "collapsed": false
   },
   "outputs": [],
   "source": [
    "add_sql_table(\"TotalPhotoIonizationCrossSections\", \"total photoionization cross sections\", \"CrossSection\")"
   ]
  },
  {
   "cell_type": "code",
   "execution_count": null,
   "metadata": {
    "collapsed": false
   },
   "outputs": [],
   "source": [
    "add_sql_table(\"CoherentScatteringFormFactors\", \"coherent scattering form factors\", \"FormFactor\")"
   ]
  },
  {
   "cell_type": "code",
   "execution_count": null,
   "metadata": {
    "collapsed": false
   },
   "outputs": [],
   "source": [
    "add_sql_table(\"IncoherentScatteringFunctions\", \"incoherent scattering functions\", \"ScatteringFunction\")"
   ]
  },
  {
   "cell_type": "code",
   "execution_count": null,
   "metadata": {
    "collapsed": false
   },
   "outputs": [],
   "source": [
    "add_sql_table(\"PairProductionTotalCrossSections\", \"pair production cross sections, total\", \"CrossSection\")"
   ]
  },
  {
   "cell_type": "code",
   "execution_count": null,
   "metadata": {
    "collapsed": false
   },
   "outputs": [],
   "source": [
    "add_sql_table(\"RealAnomalousScatteringFactors\", \"real anomalous scattering factor\", \"ScatteringFactor\")"
   ]
  },
  {
   "cell_type": "code",
   "execution_count": null,
   "metadata": {
    "collapsed": false
   },
   "outputs": [],
   "source": []
  }
 ],
 "metadata": {
  "kernelspec": {
   "display_name": "Python 3",
   "language": "python",
   "name": "python3"
  },
  "language_info": {
   "codemirror_mode": {
    "name": "ipython",
    "version": 3
   },
   "file_extension": ".py",
   "mimetype": "text/x-python",
   "name": "python",
   "nbconvert_exporter": "python",
   "pygments_lexer": "ipython3",
   "version": "3.10.12"
  }
 },
 "nbformat": 4,
 "nbformat_minor": 0
}
