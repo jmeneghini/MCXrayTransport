{
 "cells": [
  {
   "cell_type": "code",
   "execution_count": 1,
   "metadata": {
    "collapsed": true,
    "ExecuteTime": {
     "end_time": "2023-08-02T20:55:52.259114825Z",
     "start_time": "2023-08-02T20:55:51.720143733Z"
    }
   },
   "outputs": [],
   "source": [
    "import numpy as np\n",
    "import pandas as pd\n",
    "import sqlite3\n",
    "import sqlalchemy as sa"
   ]
  },
  {
   "cell_type": "code",
   "execution_count": 4,
   "outputs": [],
   "source": [
    "import sqlite3\n",
    "\n",
    "# Connect to the SQLite database\n",
    "conn = sqlite3.connect('/home/john/Documents/MCXrayTransport/data/data_sources/EPDL/EPDL.db')\n",
    "\n",
    "# Create a cursor object to execute SQL commands\n",
    "cursor = conn.cursor()\n",
    "\n",
    "# Update the density values in Materials based on the matching symbols in Elements\n",
    "query = \"\"\"\n",
    "UPDATE Materials\n",
    "SET Density = Elements.Density\n",
    "FROM Elements\n",
    "WHERE Materials.Name = Elements.Symbol;\n",
    "\"\"\"\n",
    "\n",
    "cursor.execute(query)\n",
    "\n",
    "# Commit the changes\n",
    "conn.commit()\n",
    "\n",
    "# Close the connection\n",
    "conn.close()"
   ],
   "metadata": {
    "collapsed": false,
    "ExecuteTime": {
     "end_time": "2023-08-02T21:05:57.216864120Z",
     "start_time": "2023-08-02T21:05:57.185235786Z"
    }
   }
  },
  {
   "cell_type": "code",
   "execution_count": 6,
   "outputs": [],
   "source": [
    "import requests\n",
    "from bs4 import BeautifulSoup\n",
    "import pandas as pd\n",
    "\n",
    "def extract_table_data(url):\n",
    "    response = requests.get(url)\n",
    "    html_content = response.text\n",
    "\n",
    "    soup = BeautifulSoup(html_content, \"html.parser\")\n",
    "    table = soup.find_all(\"table\")[0]\n",
    "    rows = table.find_all(\"tr\")[3:]\n",
    "\n",
    "    data = []\n",
    "    for row in rows:\n",
    "        cols = row.find_all(\"td\")\n",
    "        cols = [col.text.strip() for col in cols if col.text.strip()]\n",
    "        if cols and len(cols) == 5:\n",
    "            # Formatting Composition as Dictionary\n",
    "            composition_str = cols[4].split('\\n')\n",
    "            composition = {}\n",
    "            for s in composition_str:\n",
    "                key, val = s.split(':')\n",
    "                composition[int(key)] = float(val)\n",
    "\n",
    "            cols[4] = composition\n",
    "            data.append(cols)\n",
    "\n",
    "    df = pd.DataFrame(data, columns=['Material', 'Z/A', 'I', 'Density', 'Composition'])\n",
    "    df['Z/A'] = df['Z/A'].astype(float)\n",
    "    df['I'] = df['I'].astype(float)\n",
    "    df['Density'] = df['Density'].astype(float)\n",
    "    return df\n"
   ],
   "metadata": {
    "collapsed": false,
    "ExecuteTime": {
     "end_time": "2023-07-22T21:20:35.470239365Z",
     "start_time": "2023-07-22T21:20:35.335196456Z"
    }
   }
  },
  {
   "cell_type": "code",
   "execution_count": 8,
   "outputs": [
    {
     "data": {
      "text/plain": "                          Material      Z/A     I   Density  \\\n0  A-150 Tissue-Equivalent Plastic  0.54903  65.1  1.127000   \n1         Adipose Tissue (ICRU-44)  0.55579  64.8  0.950000   \n2        Air, Dry (near sea level)  0.49919  85.7  0.001205   \n3                          Alanine  0.53876  71.9  1.424000   \n4    B-100 Bone-Equivalent Plastic  0.52740  85.9  1.450000   \n\n                                         Composition  \n0  {1: 0.10133, 6: 0.775498, 7: 0.035057, 8: 0.05...  \n1  {1: 0.114, 6: 0.598, 7: 0.007, 8: 0.278, 11: 0...  \n2  {6: 0.000124, 7: 0.755268, 8: 0.231781, 18: 0....  \n3  {1: 0.079192, 6: 0.404437, 7: 0.157213, 8: 0.3...  \n4  {1: 0.065473, 6: 0.536942, 7: 0.0215, 8: 0.032...  ",
      "text/html": "<div>\n<style scoped>\n    .dataframe tbody tr th:only-of-type {\n        vertical-align: middle;\n    }\n\n    .dataframe tbody tr th {\n        vertical-align: top;\n    }\n\n    .dataframe thead th {\n        text-align: right;\n    }\n</style>\n<table border=\"1\" class=\"dataframe\">\n  <thead>\n    <tr style=\"text-align: right;\">\n      <th></th>\n      <th>Material</th>\n      <th>Z/A</th>\n      <th>I</th>\n      <th>Density</th>\n      <th>Composition</th>\n    </tr>\n  </thead>\n  <tbody>\n    <tr>\n      <th>0</th>\n      <td>A-150 Tissue-Equivalent Plastic</td>\n      <td>0.54903</td>\n      <td>65.1</td>\n      <td>1.127000</td>\n      <td>{1: 0.10133, 6: 0.775498, 7: 0.035057, 8: 0.05...</td>\n    </tr>\n    <tr>\n      <th>1</th>\n      <td>Adipose Tissue (ICRU-44)</td>\n      <td>0.55579</td>\n      <td>64.8</td>\n      <td>0.950000</td>\n      <td>{1: 0.114, 6: 0.598, 7: 0.007, 8: 0.278, 11: 0...</td>\n    </tr>\n    <tr>\n      <th>2</th>\n      <td>Air, Dry (near sea level)</td>\n      <td>0.49919</td>\n      <td>85.7</td>\n      <td>0.001205</td>\n      <td>{6: 0.000124, 7: 0.755268, 8: 0.231781, 18: 0....</td>\n    </tr>\n    <tr>\n      <th>3</th>\n      <td>Alanine</td>\n      <td>0.53876</td>\n      <td>71.9</td>\n      <td>1.424000</td>\n      <td>{1: 0.079192, 6: 0.404437, 7: 0.157213, 8: 0.3...</td>\n    </tr>\n    <tr>\n      <th>4</th>\n      <td>B-100 Bone-Equivalent Plastic</td>\n      <td>0.52740</td>\n      <td>85.9</td>\n      <td>1.450000</td>\n      <td>{1: 0.065473, 6: 0.536942, 7: 0.0215, 8: 0.032...</td>\n    </tr>\n  </tbody>\n</table>\n</div>"
     },
     "execution_count": 8,
     "metadata": {},
     "output_type": "execute_result"
    }
   ],
   "source": [
    "url = \"https://physics.nist.gov/PhysRefData/XrayMassCoef/tab2.html\"\n",
    "df = extract_table_data(url)\n",
    "df.head()"
   ],
   "metadata": {
    "collapsed": false,
    "ExecuteTime": {
     "end_time": "2023-07-22T21:21:07.650425679Z",
     "start_time": "2023-07-22T21:21:07.288313357Z"
    }
   }
  },
  {
   "cell_type": "code",
   "execution_count": 9,
   "outputs": [],
   "source": [
    "def fill_tables(df, database_name):\n",
    "    conn = sqlite3.connect(database_name)\n",
    "    cur = conn.cursor()\n",
    "\n",
    "    for index, row in df.iterrows():\n",
    "        # Insert data into Materials table\n",
    "        material_id = index + 1  # assuming MaterialID starts from 1 and increments with each row\n",
    "        cur.execute(\"\"\"\n",
    "            INSERT INTO Materials (MaterialID, Name, Density)\n",
    "            VALUES (?, ?, ?)\n",
    "        \"\"\", (material_id, row['Material'], row['Density']))\n",
    "\n",
    "        # Retrieve elementID and weightFraction from 'Composition' and insert data into MaterialCompositions table\n",
    "        for element_id, weight_fraction in row['Composition'].items():\n",
    "            cur.execute(\"\"\"\n",
    "                INSERT INTO MaterialCompositions (MaterialID, ElementID, WeightFraction)\n",
    "                VALUES (?, ?, ?)\n",
    "            \"\"\", (material_id, element_id, weight_fraction))\n",
    "\n",
    "    conn.commit()\n",
    "    conn.close()\n"
   ],
   "metadata": {
    "collapsed": false,
    "ExecuteTime": {
     "end_time": "2023-07-22T21:42:15.348077642Z",
     "start_time": "2023-07-22T21:42:15.343930829Z"
    }
   }
  },
  {
   "cell_type": "code",
   "execution_count": 11,
   "outputs": [],
   "source": [
    "fill_tables(df, '/home/john/Documents/MCXrayTransport/data/data_sources/EPDL/EPDL.db')"
   ],
   "metadata": {
    "collapsed": false,
    "ExecuteTime": {
     "end_time": "2023-07-22T21:43:24.242437173Z",
     "start_time": "2023-07-22T21:43:24.212188517Z"
    }
   }
  },
  {
   "cell_type": "code",
   "execution_count": null,
   "outputs": [],
   "source": [],
   "metadata": {
    "collapsed": false
   }
  }
 ],
 "metadata": {
  "kernelspec": {
   "display_name": "Python 3",
   "language": "python",
   "name": "python3"
  },
  "language_info": {
   "codemirror_mode": {
    "name": "ipython",
    "version": 2
   },
   "file_extension": ".py",
   "mimetype": "text/x-python",
   "name": "python",
   "nbconvert_exporter": "python",
   "pygments_lexer": "ipython2",
   "version": "2.7.6"
  }
 },
 "nbformat": 4,
 "nbformat_minor": 0
}
