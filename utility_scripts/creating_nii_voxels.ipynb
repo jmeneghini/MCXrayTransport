{
 "cells": [
  {
   "cell_type": "code",
   "execution_count": 272,
   "metadata": {
    "ExecuteTime": {
     "end_time": "2023-08-19T15:28:02.464996446Z",
     "start_time": "2023-08-19T15:28:02.041874904Z"
    },
    "collapsed": true
   },
   "outputs": [],
   "source": [
    "import nibabel as nib\n",
    "import numpy as np\n",
    "import matplotlib.pyplot as plt"
   ]
  },
  {
   "cell_type": "code",
   "execution_count": 273,
   "metadata": {
    "ExecuteTime": {
     "end_time": "2023-08-19T15:28:02.469410422Z",
     "start_time": "2023-08-19T15:28:02.466396359Z"
    },
    "collapsed": false
   },
   "outputs": [
    {
     "name": "stdout",
     "output_type": "stream",
     "text": [
      "Voxel dimensions: 1 x 1 x 1, spacing: (10, 50, 50) mm, total voxels: 1, total MB: 9e-06\n"
     ]
    }
   ],
   "source": [
    "DIMX_POS = 10 # mm\n",
    "DIMY_POS = 50 # mm\n",
    "DIMZ_POS = 50 # mm\n",
    "\n",
    "SPACING = (10, 50, 50) # mm\n",
    "DIMX_VOX = int(DIMX_POS/SPACING[0])\n",
    "DIMY_VOX = int(DIMY_POS/SPACING[1])\n",
    "DIMZ_VOX = int(DIMZ_POS/SPACING[2])\n",
    "\n",
    "SIZE_OF_MATERIAL_ID = 8 # bytes\n",
    "SIZE_OF_DOSE = 64 # bytes\n",
    "print(f\"Voxel dimensions: {DIMX_VOX} x {DIMY_VOX} x {DIMZ_VOX}, spacing: {SPACING} mm, total voxels: {DIMX_VOX*DIMY_VOX*DIMZ_VOX}, total MB: {(DIMX_VOX*DIMY_VOX*DIMZ_VOX*(SIZE_OF_MATERIAL_ID + SIZE_OF_DOSE))/8e+6}\")"
   ]
  },
  {
   "cell_type": "code",
   "execution_count": 274,
   "metadata": {
    "ExecuteTime": {
     "end_time": "2023-08-19T15:28:02.860075155Z",
     "start_time": "2023-08-19T15:28:02.858037664Z"
    },
    "collapsed": false
   },
   "outputs": [],
   "source": [
    "# specify materialID's\n",
    "pb = 130\n",
    "air = 3\n",
    "scin = 35"
   ]
  },
  {
   "cell_type": "code",
   "execution_count": 275,
   "metadata": {
    "ExecuteTime": {
     "end_time": "2023-08-19T15:28:03.735040526Z",
     "start_time": "2023-08-19T15:28:03.730452530Z"
    },
    "collapsed": false
   },
   "outputs": [],
   "source": [
    "# create empty 3D array\n",
    "voxels = np.zeros((DIMX_VOX, DIMY_VOX, DIMZ_VOX), dtype=np.uint8)"
   ]
  },
  {
   "cell_type": "code",
   "execution_count": 276,
   "metadata": {
    "ExecuteTime": {
     "end_time": "2023-08-19T15:30:06.302617516Z",
     "start_time": "2023-08-19T15:30:06.295430023Z"
    },
    "collapsed": false
   },
   "outputs": [],
   "source": [
    "# fill all voxels with mat\n",
    "voxels[:,:,:] = scin"
   ]
  },
  {
   "cell_type": "code",
   "execution_count": null,
   "metadata": {
    "ExecuteTime": {
     "end_time": "2023-08-19T15:30:07.184727505Z",
     "start_time": "2023-08-19T15:30:07.181587735Z"
    },
    "collapsed": false
   },
   "outputs": [],
   "source": []
  },
  {
   "cell_type": "code",
   "execution_count": 277,
   "metadata": {
    "ExecuteTime": {
     "end_time": "2023-08-19T15:30:31.757297381Z",
     "start_time": "2023-08-19T15:30:31.714441657Z"
    },
    "collapsed": false
   },
   "outputs": [
    {
     "data": {
      "text/plain": [
       "<matplotlib.image.AxesImage at 0x12c1bdba0>"
      ]
     },
     "execution_count": 277,
     "metadata": {},
     "output_type": "execute_result"
    },
    {
     "data": {
      "image/png": "[encoded data removed]",
      "text/plain": [
       "<Figure size 640x480 with 1 Axes>"
      ]
     },
     "metadata": {},
     "output_type": "display_data"
    }
   ],
   "source": [
    "# plot slice of body\n",
    "plt.imshow(voxels[:,:,0], cmap='gray')"
   ]
  },
  {
   "cell_type": "code",
   "execution_count": 278,
   "metadata": {
    "ExecuteTime": {
     "end_time": "2023-08-19T15:31:00.269047277Z",
     "start_time": "2023-08-19T15:31:00.225321714Z"
    },
    "collapsed": false
   },
   "outputs": [],
   "source": [
    "affine = np.diag((SPACING[0], SPACING[1], SPACING[2], 1))"
   ]
  },
  {
   "cell_type": "code",
   "execution_count": 279,
   "metadata": {
    "ExecuteTime": {
     "end_time": "2023-08-19T15:31:03.377519772Z",
     "start_time": "2023-08-19T15:31:03.317237198Z"
    },
    "collapsed": false
   },
   "outputs": [],
   "source": [
    "# create header\n",
    "header = nib.Nifti1Header()\n",
    "header.set_xyzt_units('mm', 'sec')\n",
    "header.set_data_dtype(np.uint8)\n",
    "header.set_dim_info(0, 1, 2)\n",
    "header.set_data_shape((DIMX_VOX, DIMY_VOX, DIMZ_VOX))\n",
    "header.set_zooms(SPACING)\n",
    "header.set_xyzt_units('mm', 'sec')\n",
    "header.set_qform(affine, 1)\n",
    "header.set_sform(affine, 1) "
   ]
  },
  {
   "cell_type": "code",
   "execution_count": 280,
   "metadata": {
    "ExecuteTime": {
     "end_time": "2023-08-19T15:31:08.642306662Z",
     "start_time": "2023-08-19T15:31:08.640110430Z"
    },
    "collapsed": false
   },
   "outputs": [],
   "source": [
    "# create image\n",
    "img = nib.Nifti1Image(voxels, affine, header)"
   ]
  },
  {
   "cell_type": "code",
   "execution_count": 281,
   "metadata": {
    "ExecuteTime": {
     "end_time": "2023-08-19T15:32:31.489447841Z",
     "start_time": "2023-08-19T15:32:31.223467746Z"
    },
    "collapsed": false
   },
   "outputs": [
    {
     "name": "stdout",
     "output_type": "stream",
     "text": [
      "<class 'nibabel.nifti1.Nifti1Header'> object, endian='<'\n",
      "sizeof_hdr      : 348\n",
      "data_type       : b''\n",
      "db_name         : b''\n",
      "extents         : 0\n",
      "session_error   : 0\n",
      "regular         : b''\n",
      "dim_info        : 57\n",
      "dim             : [3 1 1 1 1 1 1 1]\n",
      "intent_p1       : 0.0\n",
      "intent_p2       : 0.0\n",
      "intent_p3       : 0.0\n",
      "intent_code     : none\n",
      "datatype        : uint8\n",
      "bitpix          : 8\n",
      "slice_start     : 0\n",
      "pixdim          : [ 1. 10. 50. 50.  1.  1.  1.  1.]\n",
      "vox_offset      : 0.0\n",
      "scl_slope       : nan\n",
      "scl_inter       : nan\n",
      "slice_end       : 0\n",
      "slice_code      : unknown\n",
      "xyzt_units      : 10\n",
      "cal_max         : 0.0\n",
      "cal_min         : 0.0\n",
      "slice_duration  : 0.0\n",
      "toffset         : 0.0\n",
      "glmax           : 0\n",
      "glmin           : 0\n",
      "descrip         : b''\n",
      "aux_file        : b''\n",
      "qform_code      : scanner\n",
      "sform_code      : scanner\n",
      "quatern_b       : 0.0\n",
      "quatern_c       : 0.0\n",
      "quatern_d       : 0.0\n",
      "qoffset_x       : 0.0\n",
      "qoffset_y       : 0.0\n",
      "qoffset_z       : 0.0\n",
      "srow_x          : [10.  0.  0.  0.]\n",
      "srow_y          : [ 0. 50.  0.  0.]\n",
      "srow_z          : [ 0.  0. 50.  0.]\n",
      "intent_name     : b''\n",
      "magic           : b'n+1'\n"
     ]
    }
   ],
   "source": [
    "print(img.header)\n",
    "# save image\n",
    "nib.save(img, '/Users/johnmeneghini/Documents/MIDSX/data/voxels/scintillator.nii.gz')"
   ]
  },
  {
   "cell_type": "code",
   "execution_count": 282,
   "metadata": {
    "ExecuteTime": {
     "end_time": "2023-08-19T15:32:34.966418315Z",
     "start_time": "2023-08-19T15:32:34.925879673Z"
    },
    "collapsed": false
   },
   "outputs": [
    {
     "data": {
      "text/plain": [
       "(1, 1, 1)"
      ]
     },
     "execution_count": 282,
     "metadata": {},
     "output_type": "execute_result"
    }
   ],
   "source": [
    "data = img.get_fdata()\n",
    "data.shape"
   ]
  },
  {
   "cell_type": "code",
   "execution_count": 283,
   "metadata": {
    "ExecuteTime": {
     "end_time": "2023-08-08T18:37:01.395762640Z",
     "start_time": "2023-08-08T18:37:01.335194234Z"
    },
    "collapsed": false
   },
   "outputs": [
    {
     "data": {
      "text/plain": [
       "(10.0, 50.0, 50.0)"
      ]
     },
     "execution_count": 283,
     "metadata": {},
     "output_type": "execute_result"
    }
   ],
   "source": [
    "header = img.header\n",
    "header.get_zooms()"
   ]
  },
  {
   "cell_type": "code",
   "execution_count": 284,
   "metadata": {
    "ExecuteTime": {
     "end_time": "2023-08-04T17:00:48.714721415Z",
     "start_time": "2023-08-04T17:00:48.690508858Z"
    },
    "collapsed": false
   },
   "outputs": [
    {
     "data": {
      "text/plain": [
       "('mm', 'sec')"
      ]
     },
     "execution_count": 284,
     "metadata": {},
     "output_type": "execute_result"
    }
   ],
   "source": [
    "header.get_xyzt_units()"
   ]
  },
  {
   "cell_type": "code",
   "execution_count": 285,
   "metadata": {
    "collapsed": false
   },
   "outputs": [
    {
     "ename": "FileNotFoundError",
     "evalue": "No such file or no access: '/home/john/Documents/MIDSX/data/voxels/radiography_body.nii.gz'",
     "output_type": "error",
     "traceback": [
      "\u001b[0;31m---------------------------------------------------------------------------\u001b[0m",
      "\u001b[0;31mFileNotFoundError\u001b[0m                         Traceback (most recent call last)",
      "File \u001b[0;32m/opt/homebrew/lib/python3.10/site-packages/nibabel/loadsave.py:100\u001b[0m, in \u001b[0;36mload\u001b[0;34m(filename, **kwargs)\u001b[0m\n\u001b[1;32m     99\u001b[0m \u001b[38;5;28;01mtry\u001b[39;00m:\n\u001b[0;32m--> 100\u001b[0m     stat_result \u001b[38;5;241m=\u001b[39m \u001b[43mos\u001b[49m\u001b[38;5;241;43m.\u001b[39;49m\u001b[43mstat\u001b[49m\u001b[43m(\u001b[49m\u001b[43mfilename\u001b[49m\u001b[43m)\u001b[49m\n\u001b[1;32m    101\u001b[0m \u001b[38;5;28;01mexcept\u001b[39;00m \u001b[38;5;167;01mOSError\u001b[39;00m:\n",
      "\u001b[0;31mFileNotFoundError\u001b[0m: [Errno 2] No such file or directory: '/home/john/Documents/MIDSX/data/voxels/radiography_body.nii.gz'",
      "\nDuring handling of the above exception, another exception occurred:\n",
      "\u001b[0;31mFileNotFoundError\u001b[0m                         Traceback (most recent call last)",
      "Cell \u001b[0;32mIn[285], line 2\u001b[0m\n\u001b[1;32m      1\u001b[0m \u001b[38;5;66;03m# load image from file\u001b[39;00m\n\u001b[0;32m----> 2\u001b[0m img \u001b[38;5;241m=\u001b[39m \u001b[43mnib\u001b[49m\u001b[38;5;241;43m.\u001b[39;49m\u001b[43mload\u001b[49m\u001b[43m(\u001b[49m\u001b[38;5;124;43m'\u001b[39;49m\u001b[38;5;124;43m/home/john/Documents/MIDSX/data/voxels/radiography_body.nii.gz\u001b[39;49m\u001b[38;5;124;43m'\u001b[39;49m\u001b[43m)\u001b[49m\n\u001b[1;32m      3\u001b[0m header \u001b[38;5;241m=\u001b[39m img\u001b[38;5;241m.\u001b[39mheader\n\u001b[1;32m      4\u001b[0m header\u001b[38;5;241m.\u001b[39mget_data_shape()\n",
      "File \u001b[0;32m/opt/homebrew/lib/python3.10/site-packages/nibabel/loadsave.py:102\u001b[0m, in \u001b[0;36mload\u001b[0;34m(filename, **kwargs)\u001b[0m\n\u001b[1;32m    100\u001b[0m     stat_result \u001b[38;5;241m=\u001b[39m os\u001b[38;5;241m.\u001b[39mstat(filename)\n\u001b[1;32m    101\u001b[0m \u001b[38;5;28;01mexcept\u001b[39;00m \u001b[38;5;167;01mOSError\u001b[39;00m:\n\u001b[0;32m--> 102\u001b[0m     \u001b[38;5;28;01mraise\u001b[39;00m \u001b[38;5;167;01mFileNotFoundError\u001b[39;00m(\u001b[38;5;124mf\u001b[39m\u001b[38;5;124m\"\u001b[39m\u001b[38;5;124mNo such file or no access: \u001b[39m\u001b[38;5;124m'\u001b[39m\u001b[38;5;132;01m{\u001b[39;00mfilename\u001b[38;5;132;01m}\u001b[39;00m\u001b[38;5;124m'\u001b[39m\u001b[38;5;124m\"\u001b[39m)\n\u001b[1;32m    103\u001b[0m \u001b[38;5;28;01mif\u001b[39;00m stat_result\u001b[38;5;241m.\u001b[39mst_size \u001b[38;5;241m<\u001b[39m\u001b[38;5;241m=\u001b[39m \u001b[38;5;241m0\u001b[39m:\n\u001b[1;32m    104\u001b[0m     \u001b[38;5;28;01mraise\u001b[39;00m ImageFileError(\u001b[38;5;124mf\u001b[39m\u001b[38;5;124m\"\u001b[39m\u001b[38;5;124mEmpty file: \u001b[39m\u001b[38;5;124m'\u001b[39m\u001b[38;5;132;01m{\u001b[39;00mfilename\u001b[38;5;132;01m}\u001b[39;00m\u001b[38;5;124m'\u001b[39m\u001b[38;5;124m\"\u001b[39m)\n",
      "\u001b[0;31mFileNotFoundError\u001b[0m: No such file or no access: '/home/john/Documents/MIDSX/data/voxels/radiography_body.nii.gz'"
     ]
    }
   ],
   "source": [
    "# load image from file\n",
    "img = nib.load('/home/john/Documents/MIDSX/data/voxels/radiography_body.nii.gz')\n",
    "header = img.header\n",
    "header.get_data_shape()"
   ]
  },
  {
   "cell_type": "code",
   "execution_count": null,
   "metadata": {},
   "outputs": [],
   "source": []
  }
 ],
 "metadata": {
  "kernelspec": {
   "display_name": "Python 3",
   "language": "python",
   "name": "python3"
  },
  "language_info": {
   "codemirror_mode": {
    "name": "ipython",
    "version": 3
   },
   "file_extension": ".py",
   "mimetype": "text/x-python",
   "name": "python",
   "nbconvert_exporter": "python",
   "pygments_lexer": "ipython3",
   "version": "3.10.13"
  }
 },
 "nbformat": 4,
 "nbformat_minor": 0
}
