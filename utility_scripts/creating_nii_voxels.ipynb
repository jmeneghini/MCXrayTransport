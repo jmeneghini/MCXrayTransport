{
 "cells": [
  {
   "cell_type": "code",
   "execution_count": 4,
   "metadata": {
    "ExecuteTime": {
     "end_time": "2023-08-19T15:28:02.464996446Z",
     "start_time": "2023-08-19T15:28:02.041874904Z"
    },
    "collapsed": true
   },
   "outputs": [],
   "source": [
    "import nibabel as nib\n",
    "import numpy as np\n",
    "import matplotlib.pyplot as plt"
   ]
  },
  {
   "cell_type": "code",
   "execution_count": 5,
   "metadata": {
    "ExecuteTime": {
     "end_time": "2023-08-19T15:28:02.469410422Z",
     "start_time": "2023-08-19T15:28:02.466396359Z"
    },
    "collapsed": false
   },
   "outputs": [
    {
     "name": "stdout",
     "output_type": "stream",
     "text": [
      "Voxel dimensions: 4 x 4 x 40, spacing: (100, 100, 100) mm, total voxels: 640, total MB: 0.00576\n"
     ]
    }
   ],
   "source": [
    "DIMX_POS = 400 # mm\n",
    "DIMY_POS = 400 # mm\n",
    "DIMZ_POS = 4000 # mm\n",
    "\n",
    "SPACING = (100, 100, 100) # mm\n",
    "DIMX_VOX = int(DIMX_POS/SPACING[0])\n",
    "DIMY_VOX = int(DIMY_POS/SPACING[1])\n",
    "DIMZ_VOX = int(DIMZ_POS/SPACING[2])\n",
    "\n",
    "SIZE_OF_MATERIAL_ID = 8 # bytes\n",
    "SIZE_OF_DOSE = 64 # bytes\n",
    "print(f\"Voxel dimensions: {DIMX_VOX} x {DIMY_VOX} x {DIMZ_VOX}, spacing: {SPACING} mm, total voxels: {DIMX_VOX*DIMY_VOX*DIMZ_VOX}, total MB: {(DIMX_VOX*DIMY_VOX*DIMZ_VOX*(SIZE_OF_MATERIAL_ID + SIZE_OF_DOSE))/8e+6}\")"
   ]
  },
  {
   "cell_type": "code",
   "execution_count": 6,
   "metadata": {
    "ExecuteTime": {
     "end_time": "2023-08-19T15:28:02.860075155Z",
     "start_time": "2023-08-19T15:28:02.858037664Z"
    },
    "collapsed": false
   },
   "outputs": [],
   "source": [
    "# specify materialID's\n",
    "al = 61\n",
    "air = 3\n",
    "soft_tissue = 149"
   ]
  },
  {
   "cell_type": "code",
   "execution_count": 7,
   "metadata": {
    "ExecuteTime": {
     "end_time": "2023-08-19T15:28:03.735040526Z",
     "start_time": "2023-08-19T15:28:03.730452530Z"
    },
    "collapsed": false
   },
   "outputs": [],
   "source": [
    "# create empty 3D array\n",
    "voxels = np.zeros((DIMX_VOX, DIMY_VOX, DIMZ_VOX), dtype=np.uint8)"
   ]
  },
  {
   "cell_type": "code",
   "execution_count": 8,
   "metadata": {
    "ExecuteTime": {
     "end_time": "2023-08-19T15:30:06.302617516Z",
     "start_time": "2023-08-19T15:30:06.295430023Z"
    },
    "collapsed": false
   },
   "outputs": [
    {
     "data": {
      "text/plain": [
       "149"
      ]
     },
     "execution_count": 8,
     "metadata": {},
     "output_type": "execute_result"
    }
   ],
   "source": [
    "# fill all voxels with air\n",
    "voxels[:,:,:] = soft_tissue\n",
    "soft_tissue"
   ]
  },
  {
   "cell_type": "code",
   "execution_count": 7,
   "metadata": {
    "ExecuteTime": {
     "end_time": "2023-08-19T15:30:07.184727505Z",
     "start_time": "2023-08-19T15:30:07.181587735Z"
    },
    "collapsed": false
   },
   "outputs": [],
   "source": [
    "# create a body of soft tissue from z = 1550 mm to 1750 mm and x = 70 mm to 480 mm and y = 0 to 390 mm\n",
    "body_z_0 = int(100/SPACING[2])\n",
    "body_z_1 = int((100 + 2.273)/SPACING[2])\n",
    "\n",
    "voxels[:, :, body_z_0:body_z_1] = al"
   ]
  },
  {
   "cell_type": "code",
   "execution_count": 8,
   "metadata": {
    "ExecuteTime": {
     "end_time": "2023-08-19T15:30:31.757297381Z",
     "start_time": "2023-08-19T15:30:31.714441657Z"
    },
    "collapsed": false
   },
   "outputs": [
    {
     "data": {
      "text/plain": [
       "array([[3]], dtype=uint8)"
      ]
     },
     "execution_count": 8,
     "metadata": {},
     "output_type": "execute_result"
    }
   ],
   "source": [
    "# plot slice of body\n",
    "voxels[:,:,body_z_0 - 1]"
   ]
  },
  {
   "cell_type": "code",
   "execution_count": 9,
   "metadata": {
    "ExecuteTime": {
     "end_time": "2023-08-19T15:30:54.265055065Z",
     "start_time": "2023-08-19T15:30:54.258652821Z"
    },
    "collapsed": false
   },
   "outputs": [
    {
     "data": {
      "text/plain": [
       "array([[61]], dtype=uint8)"
      ]
     },
     "execution_count": 9,
     "metadata": {},
     "output_type": "execute_result"
    }
   ],
   "source": [
    "voxels[:,:,body_z_0]"
   ]
  },
  {
   "cell_type": "code",
   "execution_count": null,
   "metadata": {
    "collapsed": false
   },
   "outputs": [],
   "source": []
  },
  {
   "cell_type": "code",
   "execution_count": 9,
   "metadata": {
    "ExecuteTime": {
     "end_time": "2023-08-19T15:31:00.269047277Z",
     "start_time": "2023-08-19T15:31:00.225321714Z"
    },
    "collapsed": false
   },
   "outputs": [],
   "source": [
    "affine = np.diag((SPACING[0], SPACING[1], SPACING[2], 1))"
   ]
  },
  {
   "cell_type": "code",
   "execution_count": 10,
   "metadata": {
    "ExecuteTime": {
     "end_time": "2023-08-19T15:31:03.377519772Z",
     "start_time": "2023-08-19T15:31:03.317237198Z"
    },
    "collapsed": false
   },
   "outputs": [],
   "source": [
    "# create header\n",
    "header = nib.Nifti1Header()\n",
    "header.set_xyzt_units('mm', 'sec')\n",
    "header.set_data_dtype(np.uint8)\n",
    "header.set_dim_info(0, 1, 2)\n",
    "header.set_data_shape((DIMX_VOX, DIMY_VOX, DIMZ_VOX))\n",
    "header.set_zooms(SPACING)\n",
    "header.set_xyzt_units('mm', 'sec')\n",
    "header.set_qform(affine, 1)\n",
    "header.set_sform(affine, 1) "
   ]
  },
  {
   "cell_type": "code",
   "execution_count": 11,
   "metadata": {
    "ExecuteTime": {
     "end_time": "2023-08-19T15:31:08.642306662Z",
     "start_time": "2023-08-19T15:31:08.640110430Z"
    },
    "collapsed": false
   },
   "outputs": [],
   "source": [
    "# create image\n",
    "img = nib.Nifti1Image(voxels, affine, header)"
   ]
  },
  {
   "cell_type": "code",
   "execution_count": 12,
   "metadata": {
    "ExecuteTime": {
     "end_time": "2023-08-19T15:32:31.489447841Z",
     "start_time": "2023-08-19T15:32:31.223467746Z"
    },
    "collapsed": false
   },
   "outputs": [
    {
     "name": "stdout",
     "output_type": "stream",
     "text": [
      "<class 'nibabel.nifti1.Nifti1Header'> object, endian='<'\n",
      "sizeof_hdr      : 348\n",
      "data_type       : b''\n",
      "db_name         : b''\n",
      "extents         : 0\n",
      "session_error   : 0\n",
      "regular         : b''\n",
      "dim_info        : 57\n",
      "dim             : [ 3  4  4 40  1  1  1  1]\n",
      "intent_p1       : 0.0\n",
      "intent_p2       : 0.0\n",
      "intent_p3       : 0.0\n",
      "intent_code     : none\n",
      "datatype        : uint8\n",
      "bitpix          : 8\n",
      "slice_start     : 0\n",
      "pixdim          : [  1. 100. 100. 100.   1.   1.   1.   1.]\n",
      "vox_offset      : 0.0\n",
      "scl_slope       : nan\n",
      "scl_inter       : nan\n",
      "slice_end       : 0\n",
      "slice_code      : unknown\n",
      "xyzt_units      : 10\n",
      "cal_max         : 0.0\n",
      "cal_min         : 0.0\n",
      "slice_duration  : 0.0\n",
      "toffset         : 0.0\n",
      "glmax           : 0\n",
      "glmin           : 0\n",
      "descrip         : b''\n",
      "aux_file        : b''\n",
      "qform_code      : scanner\n",
      "sform_code      : scanner\n",
      "quatern_b       : 0.0\n",
      "quatern_c       : 0.0\n",
      "quatern_d       : 0.0\n",
      "qoffset_x       : 0.0\n",
      "qoffset_y       : 0.0\n",
      "qoffset_z       : 0.0\n",
      "srow_x          : [100.   0.   0.   0.]\n",
      "srow_y          : [  0. 100.   0.   0.]\n",
      "srow_z          : [  0.   0. 100.   0.]\n",
      "intent_name     : b''\n",
      "magic           : b'n+1'\n"
     ]
    }
   ],
   "source": [
    "print(img.header)\n",
    "# save image\n",
    "nib.save(img, '/home/john/Documents/MIDSX/data/voxels/long_body.nii.gz')"
   ]
  },
  {
   "cell_type": "code",
   "execution_count": 9,
   "metadata": {
    "ExecuteTime": {
     "end_time": "2023-08-19T15:32:34.966418315Z",
     "start_time": "2023-08-19T15:32:34.925879673Z"
    },
    "collapsed": false
   },
   "outputs": [
    {
     "data": {
      "text/plain": [
       "(39, 39, 20)"
      ]
     },
     "execution_count": 9,
     "metadata": {},
     "output_type": "execute_result"
    }
   ],
   "source": [
    "data = img.get_fdata()\n",
    "data.shape"
   ]
  },
  {
   "cell_type": "code",
   "execution_count": 10,
   "metadata": {
    "ExecuteTime": {
     "end_time": "2023-08-08T18:37:01.395762640Z",
     "start_time": "2023-08-08T18:37:01.335194234Z"
    },
    "collapsed": false
   },
   "outputs": [
    {
     "data": {
      "text/plain": [
       "(10.0, 10.0, 10.0)"
      ]
     },
     "execution_count": 10,
     "metadata": {},
     "output_type": "execute_result"
    }
   ],
   "source": [
    "header = img.header\n",
    "header.get_zooms()"
   ]
  },
  {
   "cell_type": "code",
   "execution_count": 29,
   "metadata": {
    "ExecuteTime": {
     "end_time": "2023-08-04T17:00:48.714721415Z",
     "start_time": "2023-08-04T17:00:48.690508858Z"
    },
    "collapsed": false
   },
   "outputs": [
    {
     "data": {
      "text/plain": [
       "('mm', 'sec')"
      ]
     },
     "execution_count": 29,
     "metadata": {},
     "output_type": "execute_result"
    }
   ],
   "source": [
    "header.get_xyzt_units()"
   ]
  },
  {
   "cell_type": "code",
   "execution_count": 12,
   "metadata": {
    "collapsed": false
   },
   "outputs": [
    {
     "data": {
      "text/plain": [
       "(1, 1, 1)"
      ]
     },
     "execution_count": 12,
     "metadata": {},
     "output_type": "execute_result"
    }
   ],
   "source": [
    "# load image from file\n",
    "img = nib.load('/home/john/Documents/MIDSX/data/voxels/radiography_body.nii.gz')\n",
    "header = img.header\n",
    "header.get_data_shape()"
   ]
  },
  {
   "cell_type": "code",
   "execution_count": null,
   "metadata": {},
   "outputs": [],
   "source": []
  }
 ],
 "metadata": {
  "kernelspec": {
   "display_name": "Python 3",
   "language": "python",
   "name": "python3"
  },
  "language_info": {
   "codemirror_mode": {
    "name": "ipython",
    "version": 3
   },
   "file_extension": ".py",
   "mimetype": "text/x-python",
   "name": "python",
   "nbconvert_exporter": "python",
   "pygments_lexer": "ipython3",
   "version": "3.10.12"
  }
 },
 "nbformat": 4,
 "nbformat_minor": 0
}
