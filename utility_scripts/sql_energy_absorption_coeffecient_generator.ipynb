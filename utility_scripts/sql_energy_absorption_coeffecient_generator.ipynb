{
 "cells": [
  {
   "cell_type": "code",
   "execution_count": 94,
   "metadata": {
    "collapsed": true,
    "ExecuteTime": {
     "end_time": "2023-08-07T19:24:11.762098543Z",
     "start_time": "2023-08-07T19:24:11.716974216Z"
    }
   },
   "outputs": [],
   "source": [
    "from bs4 import BeautifulSoup\n",
    "import numpy as np\n",
    "import pandas as pd\n",
    "import requests"
   ]
  },
  {
   "cell_type": "code",
   "execution_count": 95,
   "outputs": [],
   "source": [
    "def extract_data(html_content):\n",
    "    soup = BeautifulSoup(html_content, 'html.parser')\n",
    "\n",
    "    # Find the table containing the data\n",
    "    table = soup.find('table', cellpadding=\"1\")\n",
    "\n",
    "    # Find all the rows in the table\n",
    "    rows = table.find_all('tr', valign=\"top\", align=\"right\")\n",
    "\n",
    "    # Lists to store the Energy and mu_en/rho values\n",
    "    energy_values = []\n",
    "    mu_en_rho_values = []\n",
    "\n",
    "    # Iterate through each row and extract the data\n",
    "    for row in rows:\n",
    "        cols = row.find_all('td')\n",
    "\n",
    "        first_data_col_index = 0\n",
    "        # Check if the first column contains the Energy value\n",
    "        try:\n",
    "            float(cols[first_data_col_index].text.strip())  # If it is a number, then it is the Energy value. Otherwise, it is subshell information\n",
    "        except ValueError:\n",
    "            # If the first column contains the mu_en/rho value, then skip the row\n",
    "            first_data_col_index = 1\n",
    "            continue\n",
    "\n",
    "\n",
    "        # Extracting the Energy value\n",
    "        energy = float(cols[0].text.strip())\n",
    "        energy_values.append(energy)\n",
    "\n",
    "        # Extracting the mu_en/rho value\n",
    "        mu_en_rho = float(cols[2].text.strip())\n",
    "        mu_en_rho_values.append(mu_en_rho)\n",
    "\n",
    "    # Convert the lists to NumPy arrays\n",
    "    energy_array = np.array(energy_values)\n",
    "    mu_en_rho_array = np.array(mu_en_rho_values)\n",
    "\n",
    "    return energy_array, mu_en_rho_array\n"
   ],
   "metadata": {
    "collapsed": false,
    "ExecuteTime": {
     "end_time": "2023-08-07T19:24:11.762385968Z",
     "start_time": "2023-08-07T19:24:11.760650687Z"
    }
   }
  },
  {
   "cell_type": "code",
   "execution_count": 96,
   "outputs": [],
   "source": [
    "def get_html_content(url):\n",
    "    # Make a GET request to fetch the raw HTML content\n",
    "    html_content = requests.get(url).text\n",
    "    return html_content"
   ],
   "metadata": {
    "collapsed": false,
    "ExecuteTime": {
     "end_time": "2023-08-07T19:24:11.762592079Z",
     "start_time": "2023-08-07T19:24:11.761049804Z"
    }
   }
  },
  {
   "cell_type": "code",
   "execution_count": 97,
   "outputs": [],
   "source": [
    "def get_element_url(Z):\n",
    "    # URL of the page containing the data\n",
    "    url = \"https://physics.nist.gov/PhysRefData/XrayMassCoef/ElemTab/z\" + str(Z) + \".html\"\n",
    "    return url\n"
   ],
   "metadata": {
    "collapsed": false,
    "ExecuteTime": {
     "end_time": "2023-08-07T19:24:11.762729670Z",
     "start_time": "2023-08-07T19:24:11.761311009Z"
    }
   }
  },
  {
   "cell_type": "code",
   "execution_count": 98,
   "outputs": [],
   "source": [
    "def create_dataframe():\n",
    "    # Create a Pandas DataFrame to store the data\n",
    "    df = pd.DataFrame(columns=[\"index\", \"ElementID\", \"Energy\", \"Coefficient\"])\n",
    "\n",
    "    last_array_size = 0\n",
    "\n",
    "    for ElementID in range(1, 92 + 1):\n",
    "        print(\"ElementID: \", ElementID)\n",
    "        # convert the ElementID to a string with 2 digits\n",
    "        ElementID_str = str(ElementID).zfill(2)\n",
    "\n",
    "        # Get the URL for the element\n",
    "        url = get_element_url(ElementID_str)\n",
    "\n",
    "        # Get the raw HTML content\n",
    "        html_content = get_html_content(url)\n",
    "\n",
    "        # Extract the data from the HTML content\n",
    "        energy_array, mu_en_rho_array = extract_data(html_content)\n",
    "\n",
    "        index_array = np.arange(last_array_size, last_array_size + len(energy_array))\n",
    "\n",
    "        # Create a DataFrame for the element\n",
    "        df_element = pd.DataFrame({\n",
    "            \"index\": index_array,\n",
    "            \"ElementID\": ElementID,\n",
    "            \"Energy\": energy_array*1E6,\n",
    "            \"Coefficient\": mu_en_rho_array\n",
    "        })\n",
    "\n",
    "        # add the element DataFrame to the main DataFrame without using append because it doesnt exist yet\n",
    "        df = pd.concat([df, df_element], ignore_index=True)\n",
    "\n",
    "        last_array_size += len(energy_array)\n",
    "\n",
    "\n",
    "    return df"
   ],
   "metadata": {
    "collapsed": false,
    "ExecuteTime": {
     "end_time": "2023-08-07T19:24:11.772388958Z",
     "start_time": "2023-08-07T19:24:11.761533631Z"
    }
   }
  },
  {
   "cell_type": "code",
   "execution_count": 99,
   "outputs": [
    {
     "name": "stdout",
     "output_type": "stream",
     "text": [
      "ElementID:  1\n",
      "ElementID:  2\n",
      "ElementID:  3\n",
      "ElementID:  4\n",
      "ElementID:  5\n",
      "ElementID:  6\n",
      "ElementID:  7\n",
      "ElementID:  8\n",
      "ElementID:  9\n",
      "ElementID:  10\n",
      "ElementID:  11\n",
      "ElementID:  12\n",
      "ElementID:  13\n",
      "ElementID:  14\n",
      "ElementID:  15\n",
      "ElementID:  16\n",
      "ElementID:  17\n",
      "ElementID:  18\n",
      "ElementID:  19\n",
      "ElementID:  20\n",
      "ElementID:  21\n",
      "ElementID:  22\n",
      "ElementID:  23\n",
      "ElementID:  24\n",
      "ElementID:  25\n",
      "ElementID:  26\n",
      "ElementID:  27\n",
      "ElementID:  28\n",
      "ElementID:  29\n",
      "ElementID:  30\n",
      "ElementID:  31\n",
      "ElementID:  32\n",
      "ElementID:  33\n",
      "ElementID:  34\n",
      "ElementID:  35\n",
      "ElementID:  36\n",
      "ElementID:  37\n",
      "ElementID:  38\n",
      "ElementID:  39\n",
      "ElementID:  40\n",
      "ElementID:  41\n",
      "ElementID:  42\n",
      "ElementID:  43\n",
      "ElementID:  44\n",
      "ElementID:  45\n",
      "ElementID:  46\n",
      "ElementID:  47\n",
      "ElementID:  48\n",
      "ElementID:  49\n",
      "ElementID:  50\n",
      "ElementID:  51\n",
      "ElementID:  52\n",
      "ElementID:  53\n",
      "ElementID:  54\n",
      "ElementID:  55\n",
      "ElementID:  56\n",
      "ElementID:  57\n",
      "ElementID:  58\n",
      "ElementID:  59\n",
      "ElementID:  60\n",
      "ElementID:  61\n",
      "ElementID:  62\n",
      "ElementID:  63\n",
      "ElementID:  64\n",
      "ElementID:  65\n",
      "ElementID:  66\n",
      "ElementID:  67\n",
      "ElementID:  68\n",
      "ElementID:  69\n",
      "ElementID:  70\n",
      "ElementID:  71\n",
      "ElementID:  72\n",
      "ElementID:  73\n",
      "ElementID:  74\n",
      "ElementID:  75\n",
      "ElementID:  76\n",
      "ElementID:  77\n",
      "ElementID:  78\n",
      "ElementID:  79\n",
      "ElementID:  80\n",
      "ElementID:  81\n",
      "ElementID:  82\n",
      "ElementID:  83\n",
      "ElementID:  84\n",
      "ElementID:  85\n",
      "ElementID:  86\n",
      "ElementID:  87\n",
      "ElementID:  88\n",
      "ElementID:  89\n",
      "ElementID:  90\n",
      "ElementID:  91\n",
      "ElementID:  92\n"
     ]
    }
   ],
   "source": [
    "df = create_dataframe()"
   ],
   "metadata": {
    "collapsed": false,
    "ExecuteTime": {
     "end_time": "2023-08-07T19:24:32.306175702Z",
     "start_time": "2023-08-07T19:24:11.768416044Z"
    }
   }
  },
  {
   "cell_type": "code",
   "execution_count": 104,
   "outputs": [],
   "source": [
    "# export the Dataframe to a SQLite database file\n",
    "import sqlite3\n",
    "import sqlalchemy\n",
    "sqlite_connection = sqlite3.connect('/home/john/Documents/MCXrayTransport/data/data_sources/EPDL/EPDL.db')\n",
    "sqlite_table = \"MassEnergyAbsorptionCoefficients\"\n",
    "\n",
    "df.to_sql(sqlite_table, sqlite_connection, if_exists='replace', index=False)\n",
    "sqlite_connection.close()"
   ],
   "metadata": {
    "collapsed": false,
    "ExecuteTime": {
     "end_time": "2023-08-07T19:27:11.108425456Z",
     "start_time": "2023-08-07T19:27:11.066060147Z"
    }
   }
  },
  {
   "cell_type": "code",
   "execution_count": null,
   "outputs": [],
   "source": [],
   "metadata": {
    "collapsed": false
   }
  }
 ],
 "metadata": {
  "kernelspec": {
   "display_name": "Python 3",
   "language": "python",
   "name": "python3"
  },
  "language_info": {
   "codemirror_mode": {
    "name": "ipython",
    "version": 2
   },
   "file_extension": ".py",
   "mimetype": "text/x-python",
   "name": "python",
   "nbconvert_exporter": "python",
   "pygments_lexer": "ipython2",
   "version": "2.7.6"
  }
 },
 "nbformat": 4,
 "nbformat_minor": 0
}
